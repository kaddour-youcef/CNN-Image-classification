{
  "nbformat": 4,
  "nbformat_minor": 0,
  "metadata": {
    "kernelspec": {
      "display_name": "Python 3",
      "language": "python",
      "name": "python3"
    },
    "language_info": {
      "codemirror_mode": {
        "name": "ipython",
        "version": 3
      },
      "file_extension": ".py",
      "mimetype": "text/x-python",
      "name": "python",
      "nbconvert_exporter": "python",
      "pygments_lexer": "ipython3",
      "version": "3.6.9"
    },
    "colab": {
      "name": "TPCVAI_1 (final).ipynb",
      "provenance": [],
      "collapsed_sections": [],
      "toc_visible": true
    }
  },
  "cells": [
    {
      "cell_type": "code",
      "metadata": {
        "id": "QMvGPjR0YD5p"
      },
      "source": [
        "#In this python programe we are developing a simple Keras Based CNN for image classification   "
      ],
      "execution_count": null,
      "outputs": []
    },
    {
      "cell_type": "code",
      "metadata": {
        "id": "MDyh1l-FgDpS"
      },
      "source": [
        "import sys\r\n",
        "import os\r\n",
        "from keras.preprocessing.image import ImageDataGenerator\r\n",
        "from keras import optimizers\r\n",
        "from keras.models import Sequential\r\n",
        "from keras.layers import Dropout, Flatten, Dense, Activation\r\n",
        "from keras.layers.convolutional import Convolution2D, MaxPooling2D\r\n",
        "from keras import callbacks\r\n",
        "import time"
      ],
      "execution_count": null,
      "outputs": []
    },
    {
      "cell_type": "code",
      "metadata": {
        "id": "5JlFBIxFYD5s"
      },
      "source": [
        "#From scratch design a shallow CNN composed of a set of conv, pool and FC layers"
      ],
      "execution_count": null,
      "outputs": []
    },
    {
      "cell_type": "code",
      "metadata": {
        "id": "zOz1HpKtovKP"
      },
      "source": [
        "img_width, img_height = 250, 250\r\n",
        "batch_size = 32\r\n",
        "samples_per_epoch = 3\r\n",
        "validation_steps = 300\r\n",
        "nb_filters1 = 32\r\n",
        "nb_filters2 = 64\r\n",
        "conv1_size = 3\r\n",
        "conv2_size = 2\r\n",
        "pool_size = 3\r\n",
        "classes_num = 2\r\n",
        "lr = 0.0004\r\n"
      ],
      "execution_count": null,
      "outputs": []
    },
    {
      "cell_type": "code",
      "metadata": {
        "id": "EMcsl5Znojib"
      },
      "source": [
        "model = Sequential()\r\n",
        "model.add(Convolution2D(nb_filters1, conv1_size, conv1_size, padding=\"same\", input_shape=(img_width, img_height, 3)))\r\n",
        "model.add(Activation(\"relu\"))\r\n",
        "model.add(MaxPooling2D(pool_size=(pool_size, pool_size)))\r\n",
        "\r\n",
        "model.add(Convolution2D(nb_filters2, conv2_size, conv2_size, padding= \"same\"))\r\n",
        "model.add(Activation(\"relu\"))\r\n",
        "model.add(MaxPooling2D(pool_size=(pool_size, pool_size)))\r\n",
        "\r\n",
        "model.add(Flatten())\r\n",
        "model.add(Dense(256))\r\n",
        "model.add(Activation(\"relu\"))\r\n",
        "model.add(Dropout(0.5))\r\n",
        "model.add(Dense(classes_num, activation='softmax'))\r\n",
        "\r\n",
        "model.compile(loss='categorical_crossentropy',\r\n",
        "              optimizer=optimizers.RMSprop(lr=lr),\r\n",
        "              metrics=['accuracy'])\r\n"
      ],
      "execution_count": null,
      "outputs": []
    },
    {
      "cell_type": "code",
      "metadata": {
        "id": "RpjcgF1aYD5t"
      },
      "source": [
        "#Train the model\n",
        "#Plot the error vs epoch curve\n",
        "#Report the accuracy on the test set"
      ],
      "execution_count": null,
      "outputs": []
    },
    {
      "cell_type": "code",
      "metadata": {
        "id": "1bYmfn8uAubZ"
      },
      "source": [
        "# for the purpuse of this example we are loading a series of images stored in a Google drive file \r\n",
        "#feel free ro change this part of the code"
      ],
      "execution_count": null,
      "outputs": []
    },
    {
      "cell_type": "code",
      "metadata": {
        "colab": {
          "base_uri": "https://localhost:8080/"
        },
        "id": "YbMWndm8xkOZ",
        "outputId": "0a91b4f3-fc45-42ca-d2e6-832c92d9c8cb"
      },
      "source": [
        "from google.colab import drive\r\n",
        "# Mount the google drive folder to colab:\r\n",
        "drive.mount('/content/gdrive')\r\n",
        "\r\n"
      ],
      "execution_count": null,
      "outputs": [
        {
          "output_type": "stream",
          "text": [
            "Mounted at /content/gdrive\n"
          ],
          "name": "stdout"
        }
      ]
    },
    {
      "cell_type": "code",
      "metadata": {
        "colab": {
          "base_uri": "https://localhost:8080/"
        },
        "id": "BVgDoY6dgU2n",
        "outputId": "f410382d-748a-4b50-bbba-591810ba7bfa"
      },
      "source": [
        "train_data_path = 'gdrive/My Drive/Colab-Notebooks/Newdata/Train'\r\n",
        "validation_data_path = 'gdrive/My Drive/Colab-Notebooks/Newdata/Test'\r\n",
        "\r\n",
        "train_datagen = ImageDataGenerator(\r\n",
        "    rescale=1. / 255,\r\n",
        "    shear_range=0.2,\r\n",
        "    zoom_range=0.2,\r\n",
        "    horizontal_flip=True)\r\n",
        "\r\n",
        "test_datagen = ImageDataGenerator(rescale=1. / 255)\r\n",
        "\r\n",
        "train_generator = train_datagen.flow_from_directory(\r\n",
        "    train_data_path,\r\n",
        "    target_size=(img_height, img_width),\r\n",
        "    batch_size=batch_size,\r\n",
        "    class_mode='categorical')\r\n",
        "\r\n",
        "validation_generator = test_datagen.flow_from_directory(\r\n",
        "    validation_data_path,\r\n",
        "    target_size=(img_height, img_width),\r\n",
        "    batch_size=batch_size,\r\n",
        "    class_mode='categorical')"
      ],
      "execution_count": null,
      "outputs": [
        {
          "output_type": "stream",
          "text": [
            "Found 82 images belonging to 2 classes.\n",
            "Found 82 images belonging to 2 classes.\n"
          ],
          "name": "stdout"
        }
      ]
    },
    {
      "cell_type": "code",
      "metadata": {
        "id": "UjXSkp6g2LLn"
      },
      "source": [
        "DEV = False\r\n",
        "argvs = sys.argv\r\n",
        "argc = len(argvs)\r\n",
        "\r\n",
        "if argc > 1 and (argvs[1] == \"--development\" or argvs[1] == \"-d\"):\r\n",
        "  DEV = True\r\n",
        "\r\n",
        "if DEV:\r\n",
        "  epochs = 2\r\n",
        "else:\r\n",
        "  epochs = 20"
      ],
      "execution_count": null,
      "outputs": []
    },
    {
      "cell_type": "code",
      "metadata": {
        "colab": {
          "base_uri": "https://localhost:8080/"
        },
        "id": "kVSMtTDc1Gcz",
        "outputId": "64ce5ac7-a20f-464b-a395-b35ea836b5ac"
      },
      "source": [
        "log_dir = './tf-log/'\r\n",
        "tb_cb = callbacks.TensorBoard(log_dir=log_dir, histogram_freq=0)\r\n",
        "cbks = [tb_cb]\r\n",
        "\r\n",
        "history = model.fit_generator(\r\n",
        "    train_generator,\r\n",
        "    samples_per_epoch,\r\n",
        "    epochs=epochs,\r\n",
        "    validation_data=validation_generator,\r\n",
        "    callbacks=cbks,\r\n",
        "    validation_steps=validation_steps)\r\n",
        "\r\n",
        "\r\n",
        "\r\n",
        "target_dir = 'gdrive/My Drive/Colab-Notebooks/models/'\r\n",
        "if not os.path.exists(target_dir):\r\n",
        "  os.mkdir(target_dir)\r\n",
        "model.save('gdrive/My Drive/Colab-Notebooks/models/model.h5')\r\n",
        "model.save_weights('gdrive/My Drive/Colab-Notebooks/models/weights.h5')"
      ],
      "execution_count": null,
      "outputs": [
        {
          "output_type": "stream",
          "text": [
            "Epoch 1/20\n",
            "3/3 [==============================] - ETA: 0s - loss: 0.0227 - accuracy: 0.9878WARNING:tensorflow:Your input ran out of data; interrupting training. Make sure that your dataset or generator can generate at least `steps_per_epoch * epochs` batches (in this case, 300 batches). You may need to use the repeat() function when building your dataset.\n",
            "3/3 [==============================] - 2s 735ms/step - loss: 0.0227 - accuracy: 0.9878 - val_loss: 3.4241 - val_accuracy: 0.4390\n",
            "Epoch 2/20\n",
            "3/3 [==============================] - 1s 359ms/step - loss: 0.0116 - accuracy: 1.0000\n",
            "Epoch 3/20\n",
            "3/3 [==============================] - 1s 358ms/step - loss: 0.0143 - accuracy: 1.0000\n",
            "Epoch 4/20\n",
            "3/3 [==============================] - 1s 364ms/step - loss: 0.0563 - accuracy: 0.9756\n",
            "Epoch 5/20\n",
            "3/3 [==============================] - 1s 350ms/step - loss: 0.0408 - accuracy: 0.9756\n",
            "Epoch 6/20\n",
            "3/3 [==============================] - 1s 477ms/step - loss: 0.0474 - accuracy: 0.9756\n",
            "Epoch 7/20\n",
            "3/3 [==============================] - 1s 468ms/step - loss: 0.0254 - accuracy: 1.0000\n",
            "Epoch 8/20\n",
            "3/3 [==============================] - 1s 366ms/step - loss: 0.0143 - accuracy: 1.0000\n",
            "Epoch 9/20\n",
            "3/3 [==============================] - 1s 363ms/step - loss: 0.0580 - accuracy: 0.9634\n",
            "Epoch 10/20\n",
            "3/3 [==============================] - 1s 373ms/step - loss: 0.0395 - accuracy: 0.9878\n",
            "Epoch 11/20\n",
            "3/3 [==============================] - 1s 353ms/step - loss: 0.0519 - accuracy: 0.9878\n",
            "Epoch 12/20\n",
            "3/3 [==============================] - 1s 364ms/step - loss: 0.0355 - accuracy: 0.9878\n",
            "Epoch 13/20\n",
            "3/3 [==============================] - 1s 355ms/step - loss: 0.0383 - accuracy: 0.9756\n",
            "Epoch 14/20\n",
            "3/3 [==============================] - 1s 477ms/step - loss: 0.1061 - accuracy: 0.9634\n",
            "Epoch 15/20\n",
            "3/3 [==============================] - 1s 350ms/step - loss: 0.1311 - accuracy: 0.9146\n",
            "Epoch 16/20\n",
            "3/3 [==============================] - 1s 377ms/step - loss: 0.0150 - accuracy: 1.0000\n",
            "Epoch 17/20\n",
            "3/3 [==============================] - 1s 452ms/step - loss: 0.0136 - accuracy: 1.0000\n",
            "Epoch 18/20\n",
            "3/3 [==============================] - 1s 462ms/step - loss: 0.0255 - accuracy: 0.9878\n",
            "Epoch 19/20\n",
            "3/3 [==============================] - 1s 353ms/step - loss: 0.0170 - accuracy: 1.0000\n",
            "Epoch 20/20\n",
            "3/3 [==============================] - 1s 474ms/step - loss: 0.0079 - accuracy: 1.0000\n"
          ],
          "name": "stdout"
        }
      ]
    },
    {
      "cell_type": "code",
      "metadata": {
        "colab": {
          "base_uri": "https://localhost:8080/",
          "height": 295
        },
        "id": "8EjlwMGNEAs_",
        "outputId": "afe36578-7e2a-4221-8ed7-600abf7ba8f4"
      },
      "source": [
        "import matplotlib.pyplot as plt\r\n",
        "plt.plot(history.history['loss'])\r\n",
        "plt.plot(history.history['val_loss'])\r\n",
        "plt.title('model loss')\r\n",
        "plt.ylabel('loss')\r\n",
        "plt.xlabel('epoch')\r\n",
        "plt.legend(['train', 'test'], loc='upper left')\r\n",
        "plt.show()\r\n",
        "\r\n"
      ],
      "execution_count": null,
      "outputs": [
        {
          "output_type": "display_data",
          "data": {
            "image/png": "[encoded data removed]",
            "text/plain": [
              "<Figure size 432x288 with 1 Axes>"
            ]
          },
          "metadata": {
            "tags": [],
            "needs_background": "light"
          }
        }
      ]
    },
    {
      "cell_type": "code",
      "metadata": {
        "id": "QYkxqPTgYD5t"
      },
      "source": [
        "#Load in pre-trained weights from a network trained on a large dataset\r\n",
        "#Extract features from the train and test images using the pre-trained model\r\n",
        "#Classify the test images using a 1-nearst neighbour classifier\r\n",
        "#Load in pre-trained weights from a network trained on a large dataset\r\n",
        "#Freeze all the weights in the convolutional layers"
      ],
      "execution_count": null,
      "outputs": []
    },
    {
      "cell_type": "code",
      "metadata": {
        "id": "eyjLNPpJHDFy"
      },
      "source": [
        "from keras.preprocessing.image import ImageDataGenerator, load_img, img_to_array\r\n",
        "from keras.models import Sequential, load_model\r\n",
        "import numpy as np"
      ],
      "execution_count": null,
      "outputs": []
    },
    {
      "cell_type": "code",
      "metadata": {
        "colab": {
          "base_uri": "https://localhost:8080/"
        },
        "id": "5P4YUOuNEy_t",
        "outputId": "79e59c8b-3fb4-4368-edf2-c0f4fb1aa396"
      },
      "source": [
        "model_path = 'gdrive/My Drive/Colab-Notebooks/models/model.h5'\r\n",
        "model_weights_path = 'gdrive/My Drive/Colab-Notebooks/models/weights.h5'\r\n",
        "test_path = 'gdrive/My Drive/Colab-Notebooks/Newdata/TEST-IM/'\r\n",
        "\r\n",
        "#Load the pre-trained models\r\n",
        "model = load_model(model_path)\r\n",
        "model.load_weights(model_weights_path)\r\n",
        "\r\n",
        "#Define image parameters\r\n",
        "img_width, img_height = 250, 250\r\n",
        "\r\n",
        "#Prediction Function\r\n",
        "def predict(file):\r\n",
        "  x = load_img(file, target_size=(img_width,img_height))\r\n",
        "  x = img_to_array(x)\r\n",
        "  x = np.expand_dims(x, axis=0)\r\n",
        "  array = model.predict(x)\r\n",
        "  result = array[0]\r\n",
        "  #print(result)\r\n",
        "  answer = np.argmax(result)\r\n",
        "  if answer == 1:\r\n",
        "    print(\"Predicted: Horse\")\r\n",
        "  elif answer == 0:\r\n",
        "    print (\"Predicted: Cow\")\r\n",
        "\r\n",
        "  return answer\r\n",
        "\r\n",
        "  #Walk the directory for every image\r\n",
        "for i, ret in enumerate(os.walk(test_path)):\r\n",
        "  for i, filename in enumerate(ret[2]):\r\n",
        "    if filename.startswith(\".\"):\r\n",
        "      continue\r\n",
        "    \r\n",
        "    print(ret[0] + '/' + filename)\r\n",
        "    result = predict(ret[0] + '/' + filename)\r\n",
        "    print(\" \")"
      ],
      "execution_count": null,
      "outputs": [
        {
          "output_type": "stream",
          "text": [
            "gdrive/My Drive/Colab-Notebooks/Newdata/TEST-IM//horse5-090-202.png\n",
            "WARNING:tensorflow:5 out of the last 12 calls to <function Model.make_predict_function.<locals>.predict_function at 0x7f4c9a0be8c8> triggered tf.function retracing. Tracing is expensive and the excessive number of tracings could be due to (1) creating @tf.function repeatedly in a loop, (2) passing tensors with different shapes, (3) passing Python objects instead of tensors. For (1), please define your @tf.function outside of the loop. For (2), @tf.function has experimental_relax_shapes=True option that relaxes argument shapes that can avoid unnecessary retracing. For (3), please refer to https://www.tensorflow.org/tutorials/customization/performance#python_or_tensor_args and https://www.tensorflow.org/api_docs/python/tf/function for  more details.\n",
            "Predicted: Horse\n",
            " \n",
            "gdrive/My Drive/Colab-Notebooks/Newdata/TEST-IM//horse5-090-338.png\n",
            "Predicted: Horse\n",
            " \n",
            "gdrive/My Drive/Colab-Notebooks/Newdata/TEST-IM//cow3-066-027.png\n",
            "Predicted: Cow\n",
            " \n"
          ],
          "name": "stdout"
        }
      ]
    }
  ]
}